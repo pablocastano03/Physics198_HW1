{
 "cells": [
  {
   "cell_type": "markdown",
   "metadata": {},
   "source": [
    "## HW1-P1 Checkpoint\n",
    "\n",
    "This file contains a number of benchmarks so that we can get some idea of how your computer performs and make sure everything installed correctly. These should take a minute or two to run depending on your machine.\n",
    "\n",
    "In order to complete this checkpoint simply run all of the cells (put your cursor in each cell and hit Ctrl+Enter/Command+Enter or goto Kernel->Restart and Run All) and then save the notebook (Ctrl+S/Command+S) and upload it to gradescope."
   ]
  },
  {
   "cell_type": "code",
   "execution_count": 1,
   "metadata": {},
   "outputs": [],
   "source": [
    "import numpy as np\n",
    "from time import time\n",
    "\n",
    "# Roughly based on: http://stackoverflow.com/questions/11443302/compiling-numpy-with-openblas-integration\n",
    "np.random.seed(0)\n",
    "\n",
    "size = 4096\n",
    "A, B = np.random.random((size, size)), np.random.random((size, size))\n",
    "C, D = np.random.random((size * 128,)), np.random.random((size * 128,))\n",
    "E = np.random.random((int(size / 2), int(size / 4)))\n",
    "F = np.random.random((int(size / 2), int(size / 2)))\n",
    "F = np.dot(F, F.T)\n",
    "G = np.random.random((int(size / 2), int(size / 2)))"
   ]
  },
  {
   "cell_type": "markdown",
   "metadata": {},
   "source": [
    "Run a few quick numpy benchmarks"
   ]
  },
  {
   "cell_type": "code",
   "execution_count": 2,
   "metadata": {},
   "outputs": [
    {
     "name": "stdout",
     "output_type": "stream",
     "text": [
      "Dotted two 4096x4096 matrices in 0.87 s.\n",
      "Dotted two vectors of length 524288 in 0.12 ms.\n",
      "SVD of a 2048x1024 matrix in 0.40 s.\n",
      "Cholesky decomposition of a 2048x2048 matrix in 0.09 s.\n",
      "Eigendecomposition of a 2048x2048 matrix in 3.38 s.\n"
     ]
    }
   ],
   "source": [
    "# Matrix multiplication\n",
    "N = 20\n",
    "t = time()\n",
    "for i in range(N):\n",
    "    np.dot(A, B)\n",
    "delta = time() - t\n",
    "print('Dotted two %dx%d matrices in %0.2f s.' % (size, size, delta / N))\n",
    "del A, B\n",
    "\n",
    "# Vector multiplication\n",
    "N = 5000\n",
    "t = time()\n",
    "for i in range(N):\n",
    "    np.dot(C, D)\n",
    "delta = time() - t\n",
    "print('Dotted two vectors of length %d in %0.2f ms.' % (size * 128, 1e3 * delta / N))\n",
    "del C, D\n",
    "\n",
    "# Singular Value Decomposition (SVD)\n",
    "N = 3\n",
    "t = time()\n",
    "for i in range(N):\n",
    "    np.linalg.svd(E, full_matrices = False)\n",
    "delta = time() - t\n",
    "print(\"SVD of a %dx%d matrix in %0.2f s.\" % (size / 2, size / 4, delta / N))\n",
    "del E\n",
    "\n",
    "# Cholesky Decomposition\n",
    "N = 3\n",
    "t = time()\n",
    "for i in range(N):\n",
    "    np.linalg.cholesky(F)\n",
    "delta = time() - t\n",
    "print(\"Cholesky decomposition of a %dx%d matrix in %0.2f s.\" % (size / 2, size / 2, delta / N))\n",
    "\n",
    "# Eigendecomposition\n",
    "t = time()\n",
    "for i in range(N):\n",
    "    np.linalg.eig(G)\n",
    "delta = time() - t\n",
    "print(\"Eigendecomposition of a %dx%d matrix in %0.2f s.\" % (size / 2, size / 2, delta / N))"
   ]
  },
  {
   "cell_type": "markdown",
   "metadata": {},
   "source": [
    "The following cell simply prints out some system information to make sure everything is setup properly."
   ]
  },
  {
   "cell_type": "code",
   "execution_count": 3,
   "metadata": {},
   "outputs": [
    {
     "name": "stdout",
     "output_type": "stream",
     "text": [
      "macOS-10.14.6-x86_64-i386-64bit\n",
      "x86_64\n",
      "i386\n",
      "blas_mkl_info:\n",
      "    libraries = ['mkl_rt', 'pthread']\n",
      "    library_dirs = ['/Users/pablocastanobasurto/opt/anaconda3/envs/physcat/lib']\n",
      "    define_macros = [('SCIPY_MKL_H', None), ('HAVE_CBLAS', None)]\n",
      "    include_dirs = ['/Users/pablocastanobasurto/opt/anaconda3/envs/physcat/include']\n",
      "blas_opt_info:\n",
      "    libraries = ['mkl_rt', 'pthread']\n",
      "    library_dirs = ['/Users/pablocastanobasurto/opt/anaconda3/envs/physcat/lib']\n",
      "    define_macros = [('SCIPY_MKL_H', None), ('HAVE_CBLAS', None)]\n",
      "    include_dirs = ['/Users/pablocastanobasurto/opt/anaconda3/envs/physcat/include']\n",
      "lapack_mkl_info:\n",
      "    libraries = ['mkl_rt', 'pthread']\n",
      "    library_dirs = ['/Users/pablocastanobasurto/opt/anaconda3/envs/physcat/lib']\n",
      "    define_macros = [('SCIPY_MKL_H', None), ('HAVE_CBLAS', None)]\n",
      "    include_dirs = ['/Users/pablocastanobasurto/opt/anaconda3/envs/physcat/include']\n",
      "lapack_opt_info:\n",
      "    libraries = ['mkl_rt', 'pthread']\n",
      "    library_dirs = ['/Users/pablocastanobasurto/opt/anaconda3/envs/physcat/lib']\n",
      "    define_macros = [('SCIPY_MKL_H', None), ('HAVE_CBLAS', None)]\n",
      "    include_dirs = ['/Users/pablocastanobasurto/opt/anaconda3/envs/physcat/include']\n"
     ]
    }
   ],
   "source": [
    "import platform\n",
    "print(platform.platform())\n",
    "print(platform.machine())\n",
    "print(platform.processor())\n",
    "\n",
    "np.__config__.show()"
   ]
  },
  {
   "cell_type": "markdown",
   "metadata": {},
   "source": [
    "Test the python-compiler library numba"
   ]
  },
  {
   "cell_type": "code",
   "execution_count": 4,
   "metadata": {},
   "outputs": [
    {
     "name": "stdout",
     "output_type": "stream",
     "text": [
      "858 ns ± 3.58 ns per loop (mean ± std. dev. of 7 runs, 1000000 loops each)\n",
      "97.4 µs ± 580 ns per loop (mean ± std. dev. of 7 runs, 10000 loops each)\n"
     ]
    }
   ],
   "source": [
    "from numba import njit\n",
    "\n",
    "def fib_python(n):\n",
    "    last = 1\n",
    "    current = 1\n",
    "    if n == 0 or n == 1:\n",
    "        return 1\n",
    "    for i in range(0, n - 2):\n",
    "        last, current = current, last + current\n",
    "    return current\n",
    "\n",
    "@njit\n",
    "def fib_numba(n):\n",
    "    last = 1\n",
    "    current = 1\n",
    "    if n == 0 or n == 1:\n",
    "        return 1\n",
    "    for i in range(0, n - 2):\n",
    "        last, current = current, last + current\n",
    "    return current\n",
    "\n",
    "# Trigger jitting of fib\n",
    "fib_numba(5)\n",
    "fib_python(5)\n",
    "\n",
    "%timeit fib_numba(1500)\n",
    "%timeit fib_python(1500)"
   ]
  },
  {
   "cell_type": "code",
   "execution_count": null,
   "metadata": {},
   "outputs": [],
   "source": []
  }
 ],
 "metadata": {
  "kernelspec": {
   "display_name": "Python 3",
   "language": "python",
   "name": "python3"
  },
  "language_info": {
   "codemirror_mode": {
    "name": "ipython",
    "version": 3
   },
   "file_extension": ".py",
   "mimetype": "text/x-python",
   "name": "python",
   "nbconvert_exporter": "python",
   "pygments_lexer": "ipython3",
   "version": "3.8.3"
  }
 },
 "nbformat": 4,
 "nbformat_minor": 5
}
